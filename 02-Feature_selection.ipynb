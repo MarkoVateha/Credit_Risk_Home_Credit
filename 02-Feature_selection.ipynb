{
 "cells": [
  {
   "cell_type": "markdown",
   "metadata": {
    "ExecuteTime": {
     "end_time": "2019-09-26T12:01:21.593441Z",
     "start_time": "2019-09-26T12:01:21.579509Z"
    }
   },
   "source": [
    "# Home Credit Default Risk\n",
    "\n",
    "Risk is an unavoidable part of all human activities and occurs in everyday life. When dealing on financial markets investors are facing to financial risk, which is defined as potential financial loss. Banks encounter many types of risks. As most significant risk is credit risk due to the high exposure of banks in credit transactions. \n",
    "\n",
    "An existential problem for any Loan providers is to detect the Loan applicants who are very unlikely to repay the loan. Credit institutions aim to develope credit risk model capable of distinquishing between good and bad loans. Ability to recognise default-prone credit contracts help companies avoid losses and incur huge profits."
   ]
  },
  {
   "cell_type": "markdown",
   "metadata": {},
   "source": [
    "##### Paper:        \n",
    "Master thesis\n",
    "##### Author:       \n",
    "Marko Vateha\n",
    "##### Institution:  \n",
    "University of Economics and Business in Bratislava"
   ]
  },
  {
   "cell_type": "markdown",
   "metadata": {},
   "source": [
    "![UEBR](https://euba.sk/www_write/images/cache/3dc4b38399662dd1a15ad970fd72c08e_w1200.jpg)"
   ]
  },
  {
   "cell_type": "markdown",
   "metadata": {},
   "source": [
    "# Part II. Feature Selection\n",
    "\n",
    "Feature Selection is the process of selecting a subset of relevant features (variables, predictors) for use in model construction. Feature selection techniques are used for several reasons:\n",
    "\n",
    "* simplification of models to make them easier to interpret by researchers/users,[1]\n",
    "* shorter training times,\n",
    "* to avoid the curse of dimensionality,\n",
    "* enhanced generalization by reducing overfitting[2] (formally, reduction of variance[1])"
   ]
  },
  {
   "cell_type": "markdown",
   "metadata": {},
   "source": [
    "### 01. First steps\n",
    "\n",
    "Here we import module we will work with and read the data we have already preprocessed."
   ]
  },
  {
   "cell_type": "markdown",
   "metadata": {},
   "source": [
    "#### 1.1 Importing modules:"
   ]
  },
  {
   "cell_type": "code",
   "execution_count": 14,
   "metadata": {
    "ExecuteTime": {
     "end_time": "2019-12-31T13:20:52.973366Z",
     "start_time": "2019-12-31T13:20:52.963367Z"
    }
   },
   "outputs": [],
   "source": [
    "import pandas as pd\n",
    "import numpy as np\n",
    "\n",
    "import matplotlib.pyplot as plt\n",
    "import seaborn as sns\n",
    "\n",
    "import warnings\n",
    "warnings.filterwarnings('ignore')\n",
    "\n",
    "import scipy.stats as stats"
   ]
  },
  {
   "cell_type": "markdown",
   "metadata": {},
   "source": [
    "#### 1.2 Reading preprocessed data"
   ]
  },
  {
   "cell_type": "code",
   "execution_count": 2,
   "metadata": {
    "ExecuteTime": {
     "end_time": "2019-12-31T13:09:31.516581Z",
     "start_time": "2019-12-31T13:09:02.699058Z"
    }
   },
   "outputs": [
    {
     "data": {
      "text/html": [
       "<div>\n",
       "<style scoped>\n",
       "    .dataframe tbody tr th:only-of-type {\n",
       "        vertical-align: middle;\n",
       "    }\n",
       "\n",
       "    .dataframe tbody tr th {\n",
       "        vertical-align: top;\n",
       "    }\n",
       "\n",
       "    .dataframe thead th {\n",
       "        text-align: right;\n",
       "    }\n",
       "</style>\n",
       "<table border=\"1\" class=\"dataframe\">\n",
       "  <thead>\n",
       "    <tr style=\"text-align: right;\">\n",
       "      <th></th>\n",
       "      <th>TARGET</th>\n",
       "      <th>REG_REGION_NOT_LIVE_REGION</th>\n",
       "      <th>REG_REGION_NOT_WORK_REGION</th>\n",
       "      <th>LIVE_REGION_NOT_WORK_REGION</th>\n",
       "      <th>REG_CITY_NOT_LIVE_CITY</th>\n",
       "      <th>REG_CITY_NOT_WORK_CITY</th>\n",
       "      <th>LIVE_CITY_NOT_WORK_CITY</th>\n",
       "      <th>FONDKAPREMONT_MODE</th>\n",
       "      <th>HOUSETYPE_MODE</th>\n",
       "      <th>EMERGENCYSTATE_MODE</th>\n",
       "      <th>...</th>\n",
       "      <th>Y_TOTALAREA_MODE</th>\n",
       "      <th>Y_EMERGENCYSTATE_MODE</th>\n",
       "      <th>Y_OCCUPATION_TYPE</th>\n",
       "      <th>Y_EXT_SOURCE_3</th>\n",
       "      <th>Y_AMT_REQ_CREDIT_BUREAU_YEAR</th>\n",
       "      <th>Y_AMT_REQ_CREDIT_BUREAU_QRT</th>\n",
       "      <th>Y_AMT_REQ_CREDIT_BUREAU_HOUR</th>\n",
       "      <th>Y_AMT_REQ_CREDIT_BUREAU_DAY</th>\n",
       "      <th>Y_AMT_REQ_CREDIT_BUREAU_WEEK</th>\n",
       "      <th>Y_AMT_REQ_CREDIT_BUREAU_MON</th>\n",
       "    </tr>\n",
       "    <tr>\n",
       "      <th>SK_ID_CURR</th>\n",
       "      <th></th>\n",
       "      <th></th>\n",
       "      <th></th>\n",
       "      <th></th>\n",
       "      <th></th>\n",
       "      <th></th>\n",
       "      <th></th>\n",
       "      <th></th>\n",
       "      <th></th>\n",
       "      <th></th>\n",
       "      <th></th>\n",
       "      <th></th>\n",
       "      <th></th>\n",
       "      <th></th>\n",
       "      <th></th>\n",
       "      <th></th>\n",
       "      <th></th>\n",
       "      <th></th>\n",
       "      <th></th>\n",
       "      <th></th>\n",
       "      <th></th>\n",
       "    </tr>\n",
       "  </thead>\n",
       "  <tbody>\n",
       "    <tr>\n",
       "      <th>100002</th>\n",
       "      <td>1.0</td>\n",
       "      <td>0.0</td>\n",
       "      <td>0.0</td>\n",
       "      <td>0.0</td>\n",
       "      <td>0.0</td>\n",
       "      <td>0.0</td>\n",
       "      <td>0.0</td>\n",
       "      <td>1.0</td>\n",
       "      <td>1.0</td>\n",
       "      <td>0.0</td>\n",
       "      <td>...</td>\n",
       "      <td>1</td>\n",
       "      <td>1</td>\n",
       "      <td>1</td>\n",
       "      <td>1</td>\n",
       "      <td>1</td>\n",
       "      <td>1</td>\n",
       "      <td>1</td>\n",
       "      <td>1</td>\n",
       "      <td>1</td>\n",
       "      <td>1</td>\n",
       "    </tr>\n",
       "    <tr>\n",
       "      <th>100003</th>\n",
       "      <td>0.0</td>\n",
       "      <td>0.0</td>\n",
       "      <td>0.0</td>\n",
       "      <td>0.0</td>\n",
       "      <td>0.0</td>\n",
       "      <td>0.0</td>\n",
       "      <td>0.0</td>\n",
       "      <td>1.0</td>\n",
       "      <td>1.0</td>\n",
       "      <td>0.0</td>\n",
       "      <td>...</td>\n",
       "      <td>1</td>\n",
       "      <td>1</td>\n",
       "      <td>1</td>\n",
       "      <td>0</td>\n",
       "      <td>1</td>\n",
       "      <td>1</td>\n",
       "      <td>1</td>\n",
       "      <td>1</td>\n",
       "      <td>1</td>\n",
       "      <td>1</td>\n",
       "    </tr>\n",
       "    <tr>\n",
       "      <th>100004</th>\n",
       "      <td>0.0</td>\n",
       "      <td>0.0</td>\n",
       "      <td>0.0</td>\n",
       "      <td>0.0</td>\n",
       "      <td>0.0</td>\n",
       "      <td>0.0</td>\n",
       "      <td>0.0</td>\n",
       "      <td>0.0</td>\n",
       "      <td>0.0</td>\n",
       "      <td>0.0</td>\n",
       "      <td>...</td>\n",
       "      <td>0</td>\n",
       "      <td>0</td>\n",
       "      <td>1</td>\n",
       "      <td>1</td>\n",
       "      <td>1</td>\n",
       "      <td>1</td>\n",
       "      <td>1</td>\n",
       "      <td>1</td>\n",
       "      <td>1</td>\n",
       "      <td>1</td>\n",
       "    </tr>\n",
       "    <tr>\n",
       "      <th>100006</th>\n",
       "      <td>0.0</td>\n",
       "      <td>0.0</td>\n",
       "      <td>0.0</td>\n",
       "      <td>0.0</td>\n",
       "      <td>0.0</td>\n",
       "      <td>0.0</td>\n",
       "      <td>0.0</td>\n",
       "      <td>0.0</td>\n",
       "      <td>0.0</td>\n",
       "      <td>0.0</td>\n",
       "      <td>...</td>\n",
       "      <td>0</td>\n",
       "      <td>0</td>\n",
       "      <td>1</td>\n",
       "      <td>0</td>\n",
       "      <td>0</td>\n",
       "      <td>0</td>\n",
       "      <td>0</td>\n",
       "      <td>0</td>\n",
       "      <td>0</td>\n",
       "      <td>0</td>\n",
       "    </tr>\n",
       "    <tr>\n",
       "      <th>100007</th>\n",
       "      <td>0.0</td>\n",
       "      <td>0.0</td>\n",
       "      <td>0.0</td>\n",
       "      <td>0.0</td>\n",
       "      <td>0.0</td>\n",
       "      <td>1.0</td>\n",
       "      <td>1.0</td>\n",
       "      <td>0.0</td>\n",
       "      <td>0.0</td>\n",
       "      <td>0.0</td>\n",
       "      <td>...</td>\n",
       "      <td>0</td>\n",
       "      <td>0</td>\n",
       "      <td>1</td>\n",
       "      <td>0</td>\n",
       "      <td>1</td>\n",
       "      <td>1</td>\n",
       "      <td>1</td>\n",
       "      <td>1</td>\n",
       "      <td>1</td>\n",
       "      <td>1</td>\n",
       "    </tr>\n",
       "  </tbody>\n",
       "</table>\n",
       "<p>5 rows × 342 columns</p>\n",
       "</div>"
      ],
      "text/plain": [
       "            TARGET  REG_REGION_NOT_LIVE_REGION  REG_REGION_NOT_WORK_REGION  \\\n",
       "SK_ID_CURR                                                                   \n",
       "100002         1.0                         0.0                         0.0   \n",
       "100003         0.0                         0.0                         0.0   \n",
       "100004         0.0                         0.0                         0.0   \n",
       "100006         0.0                         0.0                         0.0   \n",
       "100007         0.0                         0.0                         0.0   \n",
       "\n",
       "            LIVE_REGION_NOT_WORK_REGION  REG_CITY_NOT_LIVE_CITY  \\\n",
       "SK_ID_CURR                                                        \n",
       "100002                              0.0                     0.0   \n",
       "100003                              0.0                     0.0   \n",
       "100004                              0.0                     0.0   \n",
       "100006                              0.0                     0.0   \n",
       "100007                              0.0                     0.0   \n",
       "\n",
       "            REG_CITY_NOT_WORK_CITY  LIVE_CITY_NOT_WORK_CITY  \\\n",
       "SK_ID_CURR                                                    \n",
       "100002                         0.0                      0.0   \n",
       "100003                         0.0                      0.0   \n",
       "100004                         0.0                      0.0   \n",
       "100006                         0.0                      0.0   \n",
       "100007                         1.0                      1.0   \n",
       "\n",
       "            FONDKAPREMONT_MODE  HOUSETYPE_MODE  EMERGENCYSTATE_MODE  ...  \\\n",
       "SK_ID_CURR                                                           ...   \n",
       "100002                     1.0             1.0                  0.0  ...   \n",
       "100003                     1.0             1.0                  0.0  ...   \n",
       "100004                     0.0             0.0                  0.0  ...   \n",
       "100006                     0.0             0.0                  0.0  ...   \n",
       "100007                     0.0             0.0                  0.0  ...   \n",
       "\n",
       "            Y_TOTALAREA_MODE  Y_EMERGENCYSTATE_MODE  Y_OCCUPATION_TYPE  \\\n",
       "SK_ID_CURR                                                               \n",
       "100002                     1                      1                  1   \n",
       "100003                     1                      1                  1   \n",
       "100004                     0                      0                  1   \n",
       "100006                     0                      0                  1   \n",
       "100007                     0                      0                  1   \n",
       "\n",
       "            Y_EXT_SOURCE_3  Y_AMT_REQ_CREDIT_BUREAU_YEAR  \\\n",
       "SK_ID_CURR                                                 \n",
       "100002                   1                             1   \n",
       "100003                   0                             1   \n",
       "100004                   1                             1   \n",
       "100006                   0                             0   \n",
       "100007                   0                             1   \n",
       "\n",
       "            Y_AMT_REQ_CREDIT_BUREAU_QRT  Y_AMT_REQ_CREDIT_BUREAU_HOUR  \\\n",
       "SK_ID_CURR                                                              \n",
       "100002                                1                             1   \n",
       "100003                                1                             1   \n",
       "100004                                1                             1   \n",
       "100006                                0                             0   \n",
       "100007                                1                             1   \n",
       "\n",
       "            Y_AMT_REQ_CREDIT_BUREAU_DAY  Y_AMT_REQ_CREDIT_BUREAU_WEEK  \\\n",
       "SK_ID_CURR                                                              \n",
       "100002                                1                             1   \n",
       "100003                                1                             1   \n",
       "100004                                1                             1   \n",
       "100006                                0                             0   \n",
       "100007                                1                             1   \n",
       "\n",
       "            Y_AMT_REQ_CREDIT_BUREAU_MON  \n",
       "SK_ID_CURR                               \n",
       "100002                                1  \n",
       "100003                                1  \n",
       "100004                                1  \n",
       "100006                                0  \n",
       "100007                                1  \n",
       "\n",
       "[5 rows x 342 columns]"
      ]
     },
     "execution_count": 2,
     "metadata": {},
     "output_type": "execute_result"
    }
   ],
   "source": [
    "atrain = pd.read_csv(r'export\\export_04_11_2019.csv', index_col='SK_ID_CURR')\n",
    "atrain.head()"
   ]
  },
  {
   "cell_type": "markdown",
   "metadata": {},
   "source": [
    "#### 1.3 Splitting to Continuous and Categorical variables\n",
    "\n",
    "The significance test varies for continuous and discrete variable, hence, we need to split them."
   ]
  },
  {
   "cell_type": "code",
   "execution_count": 3,
   "metadata": {
    "ExecuteTime": {
     "end_time": "2019-12-31T13:11:32.738491Z",
     "start_time": "2019-12-31T13:11:29.674448Z"
    }
   },
   "outputs": [],
   "source": [
    "likely_cont = {}\n",
    "for var in atrain.columns:\n",
    "    likely_cont[var] = 1.*atrain[var].nunique()/atrain[var].count() > 0.0001\n",
    "    \n",
    "col_cont = []  \n",
    "col_cat = []\n",
    "for k,v in zip(list(likely_cont.keys()), list(likely_cont.values())):\n",
    "    if v:\n",
    "        col_cont.append(k)\n",
    "    else:\n",
    "        col_cat.append(k)"
   ]
  },
  {
   "cell_type": "code",
   "execution_count": 20,
   "metadata": {
    "ExecuteTime": {
     "end_time": "2019-12-31T13:28:01.796816Z",
     "start_time": "2019-12-31T13:28:01.790845Z"
    }
   },
   "outputs": [
    {
     "name": "stdout",
     "output_type": "stream",
     "text": [
      "63\n",
      "279\n"
     ]
    }
   ],
   "source": [
    "print(len(col_cont))\n",
    "print(len(col_cat))"
   ]
  },
  {
   "cell_type": "markdown",
   "metadata": {},
   "source": [
    "### 02. Statistical significance"
   ]
  },
  {
   "cell_type": "markdown",
   "metadata": {},
   "source": [
    "#### 2.1 T-test for continuous data\n",
    "\n",
    "A t-test is a type of inferential statistic used to determine if there is a significant difference between the means of two groups, which may be related in certain features. \n",
    "\n",
    "Observations for each column (attribute) we will split to two group. First group consists of observations where target variable is 1 (default), second group is formed by good loan (target = 0).\n",
    "\n",
    "If there is significant difference between the groups, then the P value of T-test is less than 0.05."
   ]
  },
  {
   "cell_type": "code",
   "execution_count": 58,
   "metadata": {
    "ExecuteTime": {
     "end_time": "2019-12-31T14:49:03.476705Z",
     "start_time": "2019-12-31T14:47:26.510217Z"
    }
   },
   "outputs": [
    {
     "name": "stdout",
     "output_type": "stream",
     "text": [
      "57\n"
     ]
    }
   ],
   "source": [
    "signif_col_cont = []\n",
    "non_signif_col_cont = []\n",
    "\n",
    "for col in col_cont:\n",
    "    default = atrain[atrain['TARGET']==1][col]\n",
    "    non_default = atrain[atrain['TARGET']==0][col]\n",
    "    \n",
    "    stat, p = stats.ttest_ind(default, non_default, equal_var = False)\n",
    "    if p < 0.05:\n",
    "        signif_col_cont.append((col,p))\n",
    "    if p > 0.05:\n",
    "        non_signif_col_cont.append((col,p))\n",
    "\n",
    "print(len(signif_col_cont))"
   ]
  },
  {
   "cell_type": "markdown",
   "metadata": {},
   "source": [
    "##### Non-significant (eliminated)"
   ]
  },
  {
   "cell_type": "code",
   "execution_count": 23,
   "metadata": {
    "ExecuteTime": {
     "end_time": "2019-12-31T13:32:19.999143Z",
     "start_time": "2019-12-31T13:32:19.991145Z"
    },
    "scrolled": true
   },
   "outputs": [
    {
     "data": {
      "text/plain": [
       "['YEARS_BEGINEXPLUATATION_AVG',\n",
       " 'YEARS_BEGINEXPLUATATION_MODE',\n",
       " 'LANDAREA_MODE',\n",
       " 'YEARS_BEGINEXPLUATATION_MEDI',\n",
       " 'LANDAREA_MEDI',\n",
       " 'INCOME_TO_CREDIT_RATIO']"
      ]
     },
     "execution_count": 23,
     "metadata": {},
     "output_type": "execute_result"
    }
   ],
   "source": [
    "non_signif_col_cont"
   ]
  },
  {
   "cell_type": "markdown",
   "metadata": {},
   "source": [
    "#### 2.2 Chi-square Test of Independence\n",
    "\n",
    "Pearson's chi-squared test is used to determine whether there is a statistically significant difference between the expected frequencies and the observed frequencies in one or more categories of a contingency table.\n",
    "\n",
    "This means, if belonging to one group is statistically significant for distinguishing between good and bad loans."
   ]
  },
  {
   "cell_type": "code",
   "execution_count": 35,
   "metadata": {
    "ExecuteTime": {
     "end_time": "2019-12-31T14:36:00.050755Z",
     "start_time": "2019-12-31T14:35:49.618128Z"
    }
   },
   "outputs": [
    {
     "name": "stdout",
     "output_type": "stream",
     "text": [
      "196\n"
     ]
    }
   ],
   "source": [
    "signif_col_cat = []\n",
    "non_signif_col_cat = []\n",
    "\n",
    "for col in col_cat:\n",
    "    ar1 = [len(atrain[col][(atrain['TARGET']==0) & (atrain[col]==1)]), len(atrain[col][(atrain['TARGET']==1) & (atrain[col]==1)])]\n",
    "    ar2 = [len(atrain[col][(atrain['TARGET']==0) & (atrain[col]==0)]), len(atrain[col][(atrain['TARGET']==1) & (atrain[col]==0)])]\n",
    "    obser = np.array([ar1,ar2])\n",
    "    chi2, p, dof, ex = stats.chi2_contingency(obser)\n",
    "    \n",
    "    if p < 0.05:\n",
    "        signif_col_cat.append((col,p))\n",
    "    if p > 0.05:\n",
    "        non_signif_col_cat.append((col,p))\n",
    "\n",
    "print(len(signif_col_cat))"
   ]
  },
  {
   "cell_type": "markdown",
   "metadata": {},
   "source": [
    "### 03. Significance of variables"
   ]
  },
  {
   "cell_type": "code",
   "execution_count": 132,
   "metadata": {
    "ExecuteTime": {
     "end_time": "2019-12-31T16:14:32.948684Z",
     "start_time": "2019-12-31T16:14:32.590853Z"
    },
    "scrolled": true
   },
   "outputs": [
    {
     "data": {
      "image/png": "[encoded data removed]",
      "text/plain": [
       "<Figure size 432x288 with 1 Axes>"
      ]
     },
     "metadata": {
      "needs_background": "light"
     },
     "output_type": "display_data"
    }
   ],
   "source": [
    "s = signif_col_cat + non_signif_col_cat + signif_col_cont + non_signif_col_cont\n",
    "s = sorted(s, key = lambda x: x[1], reverse=True)\n",
    "\n",
    "x= np.arange(len(s))\n",
    "y= []\n",
    "for i in s:\n",
    "    y.append(i[1])\n",
    "y= np.array(y)\n",
    "\n",
    "color = []\n",
    "for i in s:\n",
    "    if i[1]>0.05:\n",
    "        color.append('orange')\n",
    "    else:\n",
    "        color.append('blue')\n",
    "\n",
    "import matplotlib.patches as mpatches\n",
    "import matplotlib.pyplot as plt    \n",
    "    \n",
    "plt.style.use('bmh')\n",
    "plt.scatter(x,y, marker='.', c=color)\n",
    "plt.xlabel('Atribúty')\n",
    "plt.ylabel('P-hodnota')\n",
    "orange_patch = mpatches.Patch(color='orange', label='Nevýznamný')\n",
    "blue_patch = mpatches.Patch(color='blue', label='Významný')\n",
    "plt.legend(handles=[orange_patch, blue_patch])\n",
    "plt.axhline(y=0.05, ls='--', c='k', alpha=0.5)\n",
    "plt.show()"
   ]
  },
  {
   "cell_type": "markdown",
   "metadata": {},
   "source": [
    "##### Selecting only significant ones"
   ]
  },
  {
   "cell_type": "code",
   "execution_count": 135,
   "metadata": {
    "ExecuteTime": {
     "end_time": "2019-12-31T16:46:51.334452Z",
     "start_time": "2019-12-31T16:46:50.527465Z"
    }
   },
   "outputs": [],
   "source": [
    "signif_cols = signif_col_cat + signif_col_cont\n",
    "\n",
    "signif= []\n",
    "for col, p_val in signif_cols:\n",
    "    signif.append(col)\n",
    "\n",
    "atrain_sel = atrain[signif]"
   ]
  },
  {
   "cell_type": "markdown",
   "metadata": {},
   "source": [
    "### 04. Multicollinearity"
   ]
  },
  {
   "cell_type": "markdown",
   "metadata": {},
   "source": [
    "#### 4.1 Copy for processing"
   ]
  },
  {
   "cell_type": "code",
   "execution_count": null,
   "metadata": {},
   "outputs": [],
   "source": [
    "X_train_1 = train_sel[signif].copy()\n",
    "y_train_1 = train_sel.iloc[:,0].copy()\n",
    "X_test_1 = test_sel[signif].copy()\n",
    "y_test_1 = test_sel.iloc[:,0].copy()"
   ]
  },
  {
   "cell_type": "markdown",
   "metadata": {},
   "source": [
    "#### 4.2 Correlation Kendall-tauB"
   ]
  },
  {
   "cell_type": "code",
   "execution_count": 25,
   "metadata": {
    "ExecuteTime": {
     "end_time": "2020-03-25T14:11:52.481598Z",
     "start_time": "2020-03-25T13:30:15.717612Z"
    },
    "deletable": false,
    "editable": false
   },
   "outputs": [],
   "source": [
    "corr = pd.merge(y_train_1, X_train_1, left_index=True, right_index=True).corr(method='kendall')"
   ]
  },
  {
   "cell_type": "code",
   "execution_count": 28,
   "metadata": {
    "ExecuteTime": {
     "end_time": "2020-03-25T14:20:44.193643Z",
     "start_time": "2020-03-25T14:20:44.187648Z"
    }
   },
   "outputs": [],
   "source": [
    "corr = abs(corr)"
   ]
  },
  {
   "cell_type": "code",
   "execution_count": 29,
   "metadata": {
    "ExecuteTime": {
     "end_time": "2020-03-25T14:20:51.077627Z",
     "start_time": "2020-03-25T14:20:50.839561Z"
    }
   },
   "outputs": [],
   "source": [
    "cols = list(corr.columns)\n",
    "bad = []\n",
    "good = []\n",
    "for col in cols:\n",
    "    s = list(corr.index[corr[col]>0.8])\n",
    "    if len(s)>1:\n",
    "        bad.append(s)\n",
    "    else:\n",
    "        good.append(s[0])\n",
    "\n",
    "good.remove('TARGET')     \n",
    "w=[]\n",
    "delete = []\n",
    "\n",
    "for element in bad:\n",
    "    inventar = element.copy()\n",
    "    threshold=0\n",
    "    for j in element:\n",
    "        value = abs(corr['TARGET'][j])\n",
    "        if value>threshold:\n",
    "            column = j\n",
    "            threshold = value\n",
    "    inventar.remove(column)\n",
    "    for e in inventar:\n",
    "        delete.append(e)\n",
    "final = set(delete)\n",
    "     "
   ]
  },
  {
   "cell_type": "code",
   "execution_count": 30,
   "metadata": {
    "ExecuteTime": {
     "end_time": "2020-03-25T14:20:52.083123Z",
     "start_time": "2020-03-25T14:20:52.074130Z"
    }
   },
   "outputs": [
    {
     "data": {
      "text/plain": [
       "254"
      ]
     },
     "execution_count": 30,
     "metadata": {},
     "output_type": "execute_result"
    }
   ],
   "source": [
    "len(good) + len(bad)"
   ]
  },
  {
   "cell_type": "code",
   "execution_count": 31,
   "metadata": {
    "ExecuteTime": {
     "end_time": "2020-03-25T14:20:53.637852Z",
     "start_time": "2020-03-25T14:20:53.630853Z"
    }
   },
   "outputs": [
    {
     "data": {
      "text/plain": [
       "28"
      ]
     },
     "execution_count": 31,
     "metadata": {},
     "output_type": "execute_result"
    }
   ],
   "source": [
    "len(bad) - len(final)"
   ]
  },
  {
   "cell_type": "code",
   "execution_count": 32,
   "metadata": {
    "ExecuteTime": {
     "end_time": "2020-03-25T14:21:50.359639Z",
     "start_time": "2020-03-25T14:20:57.836669Z"
    }
   },
   "outputs": [
    {
     "data": {
      "text/plain": [
       "(159, 159)"
      ]
     },
     "execution_count": 32,
     "metadata": {},
     "output_type": "execute_result"
    }
   ],
   "source": [
    "for col in final:\n",
    "    X_test_1.drop([col],axis=1,inplace=True)\n",
    "    X_train_1.drop([col],axis=1,inplace=True)\n",
    "len(X_test_1.columns), len(X_train_1.columns)"
   ]
  },
  {
   "cell_type": "code",
   "execution_count": 33,
   "metadata": {
    "ExecuteTime": {
     "end_time": "2020-03-25T14:22:41.920262Z",
     "start_time": "2020-03-25T14:22:41.911143Z"
    }
   },
   "outputs": [
    {
     "data": {
      "text/plain": [
       "(339, 339)"
      ]
     },
     "execution_count": 33,
     "metadata": {},
     "output_type": "execute_result"
    }
   ],
   "source": [
    "len(X_test.columns), len(X_train.columns)"
   ]
  },
  {
   "cell_type": "code",
   "execution_count": null,
   "metadata": {},
   "outputs": [],
   "source": [
    "X_train_1.to_csv('X_train_1.csv')\n",
    "X_test_1.to_csv('X_test_1.csv')\n",
    "y_train_1.to_csv('y_train_1.csv')\n",
    "y_test_1.to_csv('y_test_1.csv')"
   ]
  }
 ],
 "metadata": {
  "kernelspec": {
   "display_name": "Python 3",
   "language": "python",
   "name": "python3"
  },
  "language_info": {
   "codemirror_mode": {
    "name": "ipython",
    "version": 3
   },
   "file_extension": ".py",
   "mimetype": "text/x-python",
   "name": "python",
   "nbconvert_exporter": "python",
   "pygments_lexer": "ipython3",
   "version": "3.8.2"
  }
 },
 "nbformat": 4,
 "nbformat_minor": 2
}
